{
  "nbformat": 4,
  "nbformat_minor": 0,
  "metadata": {
    "colab": {
      "provenance": [],
      "machine_shape": "hm",
      "mount_file_id": "https://github.com/yxmauw/eye-disease-classification/blob/main/rm_img_bg.ipynb",
      "authorship_tag": "ABX9TyMqjxUqzOiru9qnk68eEjeB",
      "include_colab_link": true
    },
    "kernelspec": {
      "name": "python3",
      "display_name": "Python 3"
    },
    "language_info": {
      "name": "python"
    },
    "accelerator": "TPU"
  },
  "cells": [
    {
      "cell_type": "markdown",
      "metadata": {
        "id": "view-in-github",
        "colab_type": "text"
      },
      "source": [
        "<a href=\"https://colab.research.google.com/github/yxmauw/eye-disease-classification/blob/main/rm_img_bg.ipynb\" target=\"_parent\"><img src=\"https://colab.research.google.com/assets/colab-badge.svg\" alt=\"Open In Colab\"/></a>"
      ]
    },
    {
      "cell_type": "markdown",
      "source": [
        "<img src=\"http://imgur.com/1ZcRyrc.png\" width=\"70\" height=\"70\" align=\"left\" style=\"margin: 20px\"> \n",
        " # Remove image backgrounds"
      ],
      "metadata": {
        "id": "WB8TzGQeMu1h"
      }
    },
    {
      "cell_type": "markdown",
      "source": [
        "## Setting up local directory to work\n",
        "Stream data direct from kaggle using Kaggle API"
      ],
      "metadata": {
        "id": "QXoHxmk5J_nq"
      }
    },
    {
      "cell_type": "code",
      "source": [
        "# install kaggle API if never done before for your google account\n",
        "# !pip install kaggle"
      ],
      "metadata": {
        "id": "KpxSDAb1HW_T"
      },
      "execution_count": null,
      "outputs": []
    },
    {
      "cell_type": "code",
      "source": [
        "from google.colab import drive\n",
        "drive.mount('/content/drive')"
      ],
      "metadata": {
        "id": "APddFSSYFwOK",
        "outputId": "c0171a31-737d-40c7-a5a9-9c929ae24481",
        "colab": {
          "base_uri": "https://localhost:8080/"
        }
      },
      "execution_count": 1,
      "outputs": [
        {
          "output_type": "stream",
          "name": "stdout",
          "text": [
            "Mounted at /content/drive\n"
          ]
        }
      ]
    },
    {
      "cell_type": "code",
      "execution_count": 2,
      "metadata": {
        "colab": {
          "base_uri": "https://localhost:8080/"
        },
        "id": "BkhY66DRvQFU",
        "outputId": "a74bae64-d380-438b-f7a7-e2458cf4e806"
      },
      "outputs": [
        {
          "output_type": "stream",
          "name": "stdout",
          "text": [
            "Cloning into 'eye-disease-classification'...\n",
            "remote: Enumerating objects: 351, done.\u001b[K\n",
            "remote: Counting objects: 100% (217/217), done.\u001b[K\n",
            "remote: Compressing objects: 100% (144/144), done.\u001b[K\n",
            "remote: Total 351 (delta 123), reused 128 (delta 73), pack-reused 134\u001b[K\n",
            "Receiving objects: 100% (351/351), 61.94 MiB | 25.43 MiB/s, done.\n",
            "Resolving deltas: 100% (200/200), done.\n"
          ]
        }
      ],
      "source": [
        "!git clone https://github.com/yxmauw/eye-disease-classification.git"
      ]
    },
    {
      "cell_type": "code",
      "source": [
        "!mkdir ~/.kaggle #Make a directory named “.kaggle”"
      ],
      "metadata": {
        "id": "7Vs4MUenHcw9"
      },
      "execution_count": 3,
      "outputs": []
    },
    {
      "cell_type": "code",
      "source": [
        "!cp ./eye-disease-classification/kaggle.json ~/.kaggle/ # Copy the “kaggle.json” into this new directory"
      ],
      "metadata": {
        "id": "W8zmP14rH3nR"
      },
      "execution_count": 4,
      "outputs": []
    },
    {
      "cell_type": "code",
      "source": [
        "!chmod 600 ~/.kaggle/kaggle.json # Allocate the required permission for this file"
      ],
      "metadata": {
        "id": "yNqje3RdILmo"
      },
      "execution_count": 5,
      "outputs": []
    },
    {
      "cell_type": "code",
      "source": [
        "!kaggle datasets download gunavenkatdoddi/eye-diseases-classification # download dataset"
      ],
      "metadata": {
        "colab": {
          "base_uri": "https://localhost:8080/"
        },
        "id": "TsxHmhxOISz4",
        "outputId": "8f167a48-4838-4156-cb75-f9a9afb59917"
      },
      "execution_count": 6,
      "outputs": [
        {
          "output_type": "stream",
          "name": "stdout",
          "text": [
            "Downloading eye-diseases-classification.zip to /content\n",
            "100% 734M/736M [00:05<00:00, 136MB/s]\n",
            "100% 736M/736M [00:05<00:00, 149MB/s]\n"
          ]
        }
      ]
    },
    {
      "cell_type": "code",
      "source": [
        "!unzip eye-diseases-classification.zip"
      ],
      "metadata": {
        "id": "rxc4PjjHIsID"
      },
      "execution_count": null,
      "outputs": []
    },
    {
      "cell_type": "markdown",
      "source": [
        "## Explore images"
      ],
      "metadata": {
        "id": "Ol1halViKPOH"
      }
    },
    {
      "cell_type": "code",
      "source": [
        "import numpy as np\n",
        "import pandas as pd\n",
        "import matplotlib.pyplot as plt\n",
        "import seaborn as sns\n",
        "\n",
        "%matplotlib inline\n",
        "sns.set_style('whitegrid')\n",
        "%config InlineBackend.figure_format = 'retina'"
      ],
      "metadata": {
        "id": "-ohKYop7KVJV"
      },
      "execution_count": 8,
      "outputs": []
    },
    {
      "cell_type": "markdown",
      "source": [
        "### Number of images in dataset:"
      ],
      "metadata": {
        "id": "cR36ZLEAKlE_"
      }
    },
    {
      "cell_type": "code",
      "source": [
        "import fnmatch\n",
        "import os\n",
        "\n",
        "# image files count\n",
        "cataract_count = len(fnmatch.filter(os.listdir('./dataset/cataract'), '*.*'))\n",
        "dre_count = len(fnmatch.filter(os.listdir('./dataset/diabetic_retinopathy'), '*.*'))\n",
        "glaucoma_count = len(fnmatch.filter(os.listdir('./dataset/glaucoma'), '*.*'))\n",
        "normal_count = len(fnmatch.filter(os.listdir('./dataset/normal'), '*.*'))\n",
        "total_image_count = cataract_count + dre_count + \\\n",
        "                    glaucoma_count + normal_count\n",
        "# print count\n",
        "print('---Categories---')\n",
        "print('Cataract:', cataract_count)\n",
        "print('Diabetic retinopathy:', dre_count)\n",
        "print('Glaucoma:', glaucoma_count)\n",
        "print('Normal', normal_count)\n",
        "print()\n",
        "print('---Total image count---')\n",
        "print(total_image_count)"
      ],
      "metadata": {
        "colab": {
          "base_uri": "https://localhost:8080/"
        },
        "id": "4qxLzbLCKeUX",
        "outputId": "983fe1bd-5760-42e2-cd2e-16f3adbe12f5"
      },
      "execution_count": 9,
      "outputs": [
        {
          "output_type": "stream",
          "name": "stdout",
          "text": [
            "---Categories---\n",
            "Cataract: 1038\n",
            "Diabetic retinopathy: 1098\n",
            "Glaucoma: 1007\n",
            "Normal 1074\n",
            "\n",
            "---Total image count---\n",
            "4217\n"
          ]
        }
      ]
    },
    {
      "cell_type": "markdown",
      "source": [
        "### Image dimensions, properties:"
      ],
      "metadata": {
        "id": "zcG67ePxMiEz"
      }
    },
    {
      "cell_type": "code",
      "source": [
        "# load example image\n",
        "from PIL import Image \n",
        "im = Image.open('./dataset/glaucoma/1495_left.jpg')\n",
        "# summarize some details about the image\n",
        "print(im.format)\n",
        "print(im.mode)\n",
        "print(im.size) # size already 512 x 512\n",
        "\n",
        "pixels = np.asarray(im)\n",
        "print(pixels[0])\n",
        "print(pixels.shape) # 3 channel last"
      ],
      "metadata": {
        "colab": {
          "base_uri": "https://localhost:8080/"
        },
        "id": "smk8oL4wMdLM",
        "outputId": "7be02dcb-bb03-47ef-cc87-1acf4aecd208"
      },
      "execution_count": null,
      "outputs": [
        {
          "output_type": "stream",
          "name": "stdout",
          "text": [
            "JPEG\n",
            "RGB\n",
            "(512, 512)\n",
            "[[0 0 0]\n",
            " [0 0 0]\n",
            " [0 0 0]\n",
            " ...\n",
            " [0 0 0]\n",
            " [0 0 0]\n",
            " [0 0 0]]\n",
            "(512, 512, 3)\n"
          ]
        }
      ]
    },
    {
      "cell_type": "code",
      "source": [
        "#Import library\n",
        "from IPython import display\n",
        "display.Image(filename='./dataset/glaucoma/1495_left.jpg', width=200, height=150)"
      ],
      "metadata": {
        "colab": {
          "base_uri": "https://localhost:8080/",
          "height": 167
        },
        "id": "_mVyBJCCNSrq",
        "outputId": "cf4813b7-8893-4a49-90bd-9eed00afd4ad"
      },
      "execution_count": null,
      "outputs": [
        {
          "output_type": "execute_result",
          "data": {
            "image/jpeg": "[encoded data removed]",
            "text/plain": [
              "<IPython.core.display.Image object>"
            ]
          },
          "metadata": {
            "image/jpeg": {
              "width": 200,
              "height": 150
            }
          },
          "execution_count": 11
        }
      ]
    },
    {
      "cell_type": "code",
      "source": [
        "# calculate image pixel mean, min, max\n",
        "\n",
        "mean = pixels.mean()\n",
        "print('Mean: %.3f' % mean)\n",
        "# confirm pixel range is 0-255\n",
        "print('Min: %.3f, Max: %.3f' % (pixels.min(), pixels.max()))"
      ],
      "metadata": {
        "colab": {
          "base_uri": "https://localhost:8080/"
        },
        "id": "--2XCcfCNgrk",
        "outputId": "f6e1b910-0fcb-49d4-cac6-cbedb38483f3"
      },
      "execution_count": null,
      "outputs": [
        {
          "output_type": "stream",
          "name": "stdout",
          "text": [
            "Mean: 86.173\n",
            "Min: 0.000, Max: 255.000\n"
          ]
        }
      ]
    },
    {
      "cell_type": "markdown",
      "source": [
        "## Function to remove background"
      ],
      "metadata": {
        "id": "zgYp-MfDvi9z"
      }
    },
    {
      "cell_type": "code",
      "source": [
        "# Import the library OpenCV\n",
        "import cv2\n",
        "from google.colab.patches import cv2_imshow # to stabilise cv2.imshow() function"
      ],
      "metadata": {
        "id": "Z_vOihJsvnY_"
      },
      "execution_count": 10,
      "outputs": []
    },
    {
      "cell_type": "code",
      "source": [
        "def remove_bg(file): # file is individual image filepath in str\n",
        "  img = cv2.imread(file)\n",
        "  gray = cv2.cvtColor(img,cv2.COLOR_BGR2GRAY)\n",
        "  ret, alpha = cv2.threshold(gray,0,255,cv2.THRESH_BINARY+cv2.THRESH_OTSU)\n",
        "  \n",
        "  b, g, r = cv2.split(img) # Using cv2.split() to split channels\n",
        "  \n",
        "  rgba = [b, g, r, alpha] # Making list of Red, Green, Blue channels and alpha\n",
        "\n",
        "  new_img = cv2.merge(rgba, 4)\n",
        "\n",
        "  # cv2_imshow(cv2.resize(new_img, (220, 150), interpolation=cv2.INTER_AREA))\n",
        "  # if needed, save image\n",
        "  # new file name\n",
        "  \n",
        "  # cv2.imwrite(f\"./drive/MyDrive/Colab Notebooks/{file}.png\", new_img) # jpg does not support alpha channel, only png or tiff format\n",
        "  return new_img"
      ],
      "metadata": {
        "id": "R8NDCXBOvl6c"
      },
      "execution_count": 38,
      "outputs": []
    },
    {
      "cell_type": "code",
      "source": [
        "remove_bg()[0] # this image has 4 channels"
      ],
      "metadata": {
        "id": "Tp0iSVfRvxPx"
      },
      "execution_count": null,
      "outputs": []
    },
    {
      "cell_type": "markdown",
      "source": [
        "## Function to loop through image files, save to a different directory\n",
        "\n",
        "[Reference](https://stackoverflow.com/questions/56311318/how-to-save-images-in-a-folder-with-for-loop)"
      ],
      "metadata": {
        "id": "B7x7YT-0wC7l"
      }
    },
    {
      "cell_type": "code",
      "source": [
        "import glob\n",
        "from PIL import Image\n",
        "# import os"
      ],
      "metadata": {
        "id": "n8sBWBtUwIg3"
      },
      "execution_count": 39,
      "outputs": []
    },
    {
      "cell_type": "code",
      "source": [
        "def transform_img(images): # remove background of all images in dataset\n",
        "  for image in images:\n",
        "    # put operating function here\n",
        "    new_img = remove_bg(image)\n",
        "\n",
        "    # set up new save location\n",
        "    image_path_and_name = os.path.split(image) # directory + filename.ext tuple\n",
        "    new_dir = image_path_and_name[0].replace('./', '') # remove ./\n",
        "    image_name_and_ext = os.path.splitext(image_path_and_name[1]) # split filename + ext tuple\n",
        "    name = image_name_and_ext[0] + '.png' # replace ext\n",
        "    file_path = os.path.join(new_dir, name) # join new directary path with filename\n",
        "\n",
        "    # save image\n",
        "    status = cv2.imwrite(os.path.join('./drive/MyDrive/Colab Notebooks', file_path), new_img)\n",
        "\n",
        "    # if required to check status\n",
        "    # print(\"Image written to file-system : \",status)"
      ],
      "metadata": {
        "id": "jPqNsjmdwSU3"
      },
      "execution_count": 62,
      "outputs": []
    },
    {
      "cell_type": "markdown",
      "source": [
        "Transform cataract images"
      ],
      "metadata": {
        "id": "j2PF_rI8usan"
      }
    },
    {
      "cell_type": "code",
      "source": [
        "cataract_imgs = glob.glob(\"./dataset/cataract/*.*\")\n",
        "transform_img(images = cataract_imgs)"
      ],
      "metadata": {
        "id": "2o-eve9QufF2"
      },
      "execution_count": 63,
      "outputs": []
    },
    {
      "cell_type": "markdown",
      "source": [
        "Transform diabetic neuropathy images"
      ],
      "metadata": {
        "id": "lrccKly5uwxE"
      }
    },
    {
      "cell_type": "code",
      "source": [
        "dre_imgs = glob.glob(\"./dataset/diabetic_retinopathy/*.*\")\n",
        "transform_img(images = dre_imgs)"
      ],
      "metadata": {
        "id": "OlnFW1Qnuuod"
      },
      "execution_count": 64,
      "outputs": []
    },
    {
      "cell_type": "markdown",
      "source": [
        "Transform glaucoma images"
      ],
      "metadata": {
        "id": "zGEG3YkEvKtY"
      }
    },
    {
      "cell_type": "code",
      "source": [
        "glaucoma_imgs = glob.glob(\"./dataset/glaucoma/*.*\")\n",
        "transform_img(images = glaucoma_imgs)"
      ],
      "metadata": {
        "id": "j6tnBg8WvVLu"
      },
      "execution_count": 65,
      "outputs": []
    },
    {
      "cell_type": "markdown",
      "source": [
        "Transform normal images"
      ],
      "metadata": {
        "id": "u-HGj2movnPW"
      }
    },
    {
      "cell_type": "code",
      "source": [
        "normal_imgs = glob.glob(\"./dataset/normal/*.*\")\n",
        "transform_img(images = normal_imgs)"
      ],
      "metadata": {
        "id": "HaL_zrFcvrNt"
      },
      "execution_count": 66,
      "outputs": []
    },
    {
      "cell_type": "markdown",
      "source": [
        "Check dataset image count"
      ],
      "metadata": {
        "id": "pwtY_BFfwemP"
      }
    },
    {
      "cell_type": "code",
      "source": [
        "# image files count\n",
        "cataract_count = len(fnmatch.filter(os.listdir('./drive/MyDrive/Colab Notebooks/dataset/cataract'), '*.*'))\n",
        "dre_count = len(fnmatch.filter(os.listdir('./drive/MyDrive/Colab Notebooks/dataset/diabetic_retinopathy'), '*.*'))\n",
        "glaucoma_count = len(fnmatch.filter(os.listdir('./drive/MyDrive/Colab Notebooks/dataset/glaucoma'), '*.*'))\n",
        "normal_count = len(fnmatch.filter(os.listdir('./drive/MyDrive/Colab Notebooks/dataset/normal'), '*.*'))\n",
        "total_image_count = cataract_count + dre_count + \\\n",
        "                    glaucoma_count + normal_count\n",
        "# print count\n",
        "print('---Categories---')\n",
        "print('Cataract:', cataract_count)\n",
        "print('Diabetic retinopathy:', dre_count)\n",
        "print('Glaucoma:', glaucoma_count)\n",
        "print('Normal', normal_count)\n",
        "print()\n",
        "print('---Total image count---')\n",
        "print(total_image_count)"
      ],
      "metadata": {
        "colab": {
          "base_uri": "https://localhost:8080/"
        },
        "outputId": "4331e7e1-4a17-44cb-b129-8d5e3162bc08",
        "id": "Ov7-SZ00woIe"
      },
      "execution_count": 67,
      "outputs": [
        {
          "output_type": "stream",
          "name": "stdout",
          "text": [
            "---Categories---\n",
            "Cataract: 1038\n",
            "Diabetic retinopathy: 1098\n",
            "Glaucoma: 1007\n",
            "Normal 1074\n",
            "\n",
            "---Total image count---\n",
            "4217\n"
          ]
        }
      ]
    },
    {
      "cell_type": "markdown",
      "source": [
        "Uploaded to [kaggle](https://www.kaggle.com/datasets/yxmauw/eye-disease-class-bg-rm)\n",
        "\n",
        "[Using Kaggle API to upload](https://www.kaggle.com/docs/api#create-a-new-dataset)\n",
        "\n",
        "Some of the images were poorly rendered by OpenCV algorithm with removing background due to poor source image contrast.\n",
        "\n"
      ],
      "metadata": {
        "id": "9WM_Wzb2w6Cg"
      }
    }
  ]
}